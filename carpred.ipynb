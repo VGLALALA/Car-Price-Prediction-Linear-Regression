{
 "cells": [
  {
   "cell_type": "code",
   "execution_count": 1,
   "metadata": {},
   "outputs": [],
   "source": [
    "import os\n",
    "from pathlib import Path\n",
    "\n",
    "iskaggle = os.environ.get('KAGGLE_KERNEL_RUN_TYPE', '')\n",
    "if iskaggle: path = Path('../input/cartrain')\n",
    "else:\n",
    "    path = Path('')\n",
    "    if not path.exists():\n",
    "        import zipfile,kaggle\n",
    "        kaggle.api.competition_download_cli(str(path))\n",
    "        zipfile.ZipFile(f'{path}.zip').extractall(path)"
   ]
  },
  {
   "cell_type": "code",
   "execution_count": 2,
   "metadata": {},
   "outputs": [],
   "source": [
    "import torch, numpy as np, pandas as pd\n",
    "np.set_printoptions(linewidth=140)\n",
    "torch.set_printoptions(linewidth=140, sci_mode=False, edgeitems=7)\n",
    "pd.set_option('display.width', 140)"
   ]
  },
  {
   "cell_type": "code",
   "execution_count": 3,
   "metadata": {
    "hidden": true,
    "scrolled": true
   },
   "outputs": [],
   "source": [
    "df = pd.read_csv(path/'train.csv')"
   ]
  },
  {
   "cell_type": "code",
   "execution_count": 4,
   "metadata": {},
   "outputs": [
    {
     "data": {
      "text/html": [
       "<div>\n",
       "<style scoped>\n",
       "    .dataframe tbody tr th:only-of-type {\n",
       "        vertical-align: middle;\n",
       "    }\n",
       "\n",
       "    .dataframe tbody tr th {\n",
       "        vertical-align: top;\n",
       "    }\n",
       "\n",
       "    .dataframe thead th {\n",
       "        text-align: right;\n",
       "    }\n",
       "</style>\n",
       "<table border=\"1\" class=\"dataframe\">\n",
       "  <thead>\n",
       "    <tr style=\"text-align: right;\">\n",
       "      <th></th>\n",
       "      <th>model</th>\n",
       "      <th>year</th>\n",
       "      <th>motor_type</th>\n",
       "      <th>running</th>\n",
       "      <th>wheel</th>\n",
       "      <th>color</th>\n",
       "      <th>type</th>\n",
       "      <th>status</th>\n",
       "      <th>motor_volume</th>\n",
       "      <th>price</th>\n",
       "    </tr>\n",
       "  </thead>\n",
       "  <tbody>\n",
       "    <tr>\n",
       "      <th>0</th>\n",
       "      <td>toyota</td>\n",
       "      <td>2022</td>\n",
       "      <td>petrol</td>\n",
       "      <td>3000  km</td>\n",
       "      <td>left</td>\n",
       "      <td>skyblue</td>\n",
       "      <td>sedan</td>\n",
       "      <td>excellent</td>\n",
       "      <td>2.0</td>\n",
       "      <td>24500</td>\n",
       "    </tr>\n",
       "    <tr>\n",
       "      <th>1</th>\n",
       "      <td>mercedes-benz</td>\n",
       "      <td>2014</td>\n",
       "      <td>petrol</td>\n",
       "      <td>132000  km</td>\n",
       "      <td>left</td>\n",
       "      <td>black</td>\n",
       "      <td>sedan</td>\n",
       "      <td>excellent</td>\n",
       "      <td>2.0</td>\n",
       "      <td>25500</td>\n",
       "    </tr>\n",
       "    <tr>\n",
       "      <th>2</th>\n",
       "      <td>kia</td>\n",
       "      <td>2018</td>\n",
       "      <td>petrol</td>\n",
       "      <td>95000  miles</td>\n",
       "      <td>left</td>\n",
       "      <td>other</td>\n",
       "      <td>sedan</td>\n",
       "      <td>excellent</td>\n",
       "      <td>2.0</td>\n",
       "      <td>11700</td>\n",
       "    </tr>\n",
       "    <tr>\n",
       "      <th>3</th>\n",
       "      <td>mercedes-benz</td>\n",
       "      <td>2002</td>\n",
       "      <td>petrol</td>\n",
       "      <td>137000  miles</td>\n",
       "      <td>left</td>\n",
       "      <td>golden</td>\n",
       "      <td>sedan</td>\n",
       "      <td>excellent</td>\n",
       "      <td>3.2</td>\n",
       "      <td>12000</td>\n",
       "    </tr>\n",
       "    <tr>\n",
       "      <th>4</th>\n",
       "      <td>mercedes-benz</td>\n",
       "      <td>2017</td>\n",
       "      <td>petrol</td>\n",
       "      <td>130000  km</td>\n",
       "      <td>left</td>\n",
       "      <td>black</td>\n",
       "      <td>sedan</td>\n",
       "      <td>good</td>\n",
       "      <td>2.0</td>\n",
       "      <td>26000</td>\n",
       "    </tr>\n",
       "    <tr>\n",
       "      <th>...</th>\n",
       "      <td>...</td>\n",
       "      <td>...</td>\n",
       "      <td>...</td>\n",
       "      <td>...</td>\n",
       "      <td>...</td>\n",
       "      <td>...</td>\n",
       "      <td>...</td>\n",
       "      <td>...</td>\n",
       "      <td>...</td>\n",
       "      <td>...</td>\n",
       "    </tr>\n",
       "    <tr>\n",
       "      <th>1637</th>\n",
       "      <td>hyundai</td>\n",
       "      <td>2017</td>\n",
       "      <td>petrol</td>\n",
       "      <td>120000  miles</td>\n",
       "      <td>left</td>\n",
       "      <td>white</td>\n",
       "      <td>sedan</td>\n",
       "      <td>good</td>\n",
       "      <td>2.0</td>\n",
       "      <td>12400</td>\n",
       "    </tr>\n",
       "    <tr>\n",
       "      <th>1638</th>\n",
       "      <td>toyota</td>\n",
       "      <td>2014</td>\n",
       "      <td>petrol</td>\n",
       "      <td>170000  km</td>\n",
       "      <td>left</td>\n",
       "      <td>black</td>\n",
       "      <td>sedan</td>\n",
       "      <td>good</td>\n",
       "      <td>2.0</td>\n",
       "      <td>16500</td>\n",
       "    </tr>\n",
       "    <tr>\n",
       "      <th>1639</th>\n",
       "      <td>nissan</td>\n",
       "      <td>2018</td>\n",
       "      <td>petrol</td>\n",
       "      <td>68900  miles</td>\n",
       "      <td>left</td>\n",
       "      <td>blue</td>\n",
       "      <td>suv</td>\n",
       "      <td>good</td>\n",
       "      <td>2.0</td>\n",
       "      <td>19500</td>\n",
       "    </tr>\n",
       "    <tr>\n",
       "      <th>1640</th>\n",
       "      <td>nissan</td>\n",
       "      <td>2019</td>\n",
       "      <td>petrol</td>\n",
       "      <td>31000  miles</td>\n",
       "      <td>left</td>\n",
       "      <td>black</td>\n",
       "      <td>suv</td>\n",
       "      <td>excellent</td>\n",
       "      <td>2.0</td>\n",
       "      <td>19500</td>\n",
       "    </tr>\n",
       "    <tr>\n",
       "      <th>1641</th>\n",
       "      <td>toyota</td>\n",
       "      <td>2022</td>\n",
       "      <td>petrol</td>\n",
       "      <td>20  km</td>\n",
       "      <td>left</td>\n",
       "      <td>white</td>\n",
       "      <td>sedan</td>\n",
       "      <td>excellent</td>\n",
       "      <td>2.0</td>\n",
       "      <td>28500</td>\n",
       "    </tr>\n",
       "  </tbody>\n",
       "</table>\n",
       "<p>1642 rows × 10 columns</p>\n",
       "</div>"
      ],
      "text/plain": [
       "              model  year motor_type        running wheel    color   type     status  motor_volume  price\n",
       "0            toyota  2022     petrol       3000  km  left  skyblue  sedan  excellent           2.0  24500\n",
       "1     mercedes-benz  2014     petrol     132000  km  left    black  sedan  excellent           2.0  25500\n",
       "2               kia  2018     petrol   95000  miles  left    other  sedan  excellent           2.0  11700\n",
       "3     mercedes-benz  2002     petrol  137000  miles  left   golden  sedan  excellent           3.2  12000\n",
       "4     mercedes-benz  2017     petrol     130000  km  left    black  sedan       good           2.0  26000\n",
       "...             ...   ...        ...            ...   ...      ...    ...        ...           ...    ...\n",
       "1637        hyundai  2017     petrol  120000  miles  left    white  sedan       good           2.0  12400\n",
       "1638         toyota  2014     petrol     170000  km  left    black  sedan       good           2.0  16500\n",
       "1639         nissan  2018     petrol   68900  miles  left     blue    suv       good           2.0  19500\n",
       "1640         nissan  2019     petrol   31000  miles  left    black    suv  excellent           2.0  19500\n",
       "1641         toyota  2022     petrol         20  km  left    white  sedan  excellent           2.0  28500\n",
       "\n",
       "[1642 rows x 10 columns]"
      ]
     },
     "execution_count": 4,
     "metadata": {},
     "output_type": "execute_result"
    }
   ],
   "source": [
    "df"
   ]
  },
  {
   "cell_type": "code",
   "execution_count": 5,
   "metadata": {
    "hidden": true
   },
   "outputs": [
    {
     "data": {
      "text/plain": [
       "model           0\n",
       "year            0\n",
       "motor_type      0\n",
       "running         0\n",
       "wheel           0\n",
       "color           0\n",
       "type            0\n",
       "status          0\n",
       "motor_volume    0\n",
       "price           0\n",
       "dtype: int64"
      ]
     },
     "execution_count": 5,
     "metadata": {},
     "output_type": "execute_result"
    }
   ],
   "source": [
    "df.isna().sum()"
   ]
  },
  {
   "cell_type": "code",
   "execution_count": 6,
   "metadata": {
    "hidden": true
   },
   "outputs": [
    {
     "data": {
      "text/plain": [
       "model           mercedes-benz\n",
       "year                     2019\n",
       "motor_type             petrol\n",
       "running            300000  km\n",
       "wheel                    left\n",
       "color                   black\n",
       "type                    sedan\n",
       "status              excellent\n",
       "motor_volume              2.0\n",
       "price                   15750\n",
       "Name: 0, dtype: object"
      ]
     },
     "execution_count": 6,
     "metadata": {},
     "output_type": "execute_result"
    }
   ],
   "source": [
    "modes = df.mode().iloc[0]\n",
    "modes"
   ]
  },
  {
   "cell_type": "code",
   "execution_count": 7,
   "metadata": {
    "hidden": true
   },
   "outputs": [],
   "source": [
    "df.fillna(modes, inplace=True)"
   ]
  },
  {
   "cell_type": "markdown",
   "metadata": {
    "hidden": true
   },
   "source": [
    "We can now check there's no missing values left:"
   ]
  },
  {
   "cell_type": "code",
   "execution_count": 8,
   "metadata": {
    "hidden": true
   },
   "outputs": [
    {
     "data": {
      "text/plain": [
       "model           0\n",
       "year            0\n",
       "motor_type      0\n",
       "running         0\n",
       "wheel           0\n",
       "color           0\n",
       "type            0\n",
       "status          0\n",
       "motor_volume    0\n",
       "price           0\n",
       "dtype: int64"
      ]
     },
     "execution_count": 8,
     "metadata": {},
     "output_type": "execute_result"
    }
   ],
   "source": [
    "df.isna().sum()"
   ]
  },
  {
   "cell_type": "code",
   "execution_count": 9,
   "metadata": {
    "hidden": true
   },
   "outputs": [
    {
     "data": {
      "text/html": [
       "<div>\n",
       "<style scoped>\n",
       "    .dataframe tbody tr th:only-of-type {\n",
       "        vertical-align: middle;\n",
       "    }\n",
       "\n",
       "    .dataframe tbody tr th {\n",
       "        vertical-align: top;\n",
       "    }\n",
       "\n",
       "    .dataframe thead th {\n",
       "        text-align: right;\n",
       "    }\n",
       "</style>\n",
       "<table border=\"1\" class=\"dataframe\">\n",
       "  <thead>\n",
       "    <tr style=\"text-align: right;\">\n",
       "      <th></th>\n",
       "      <th>year</th>\n",
       "      <th>motor_volume</th>\n",
       "      <th>price</th>\n",
       "    </tr>\n",
       "  </thead>\n",
       "  <tbody>\n",
       "    <tr>\n",
       "      <th>count</th>\n",
       "      <td>1642.000000</td>\n",
       "      <td>1642.000000</td>\n",
       "      <td>1642.000000</td>\n",
       "    </tr>\n",
       "    <tr>\n",
       "      <th>mean</th>\n",
       "      <td>2014.805725</td>\n",
       "      <td>2.035018</td>\n",
       "      <td>15982.633374</td>\n",
       "    </tr>\n",
       "    <tr>\n",
       "      <th>std</th>\n",
       "      <td>6.587573</td>\n",
       "      <td>0.253069</td>\n",
       "      <td>7176.084647</td>\n",
       "    </tr>\n",
       "    <tr>\n",
       "      <th>min</th>\n",
       "      <td>1987.000000</td>\n",
       "      <td>0.200000</td>\n",
       "      <td>462.000000</td>\n",
       "    </tr>\n",
       "    <tr>\n",
       "      <th>25%</th>\n",
       "      <td>2013.000000</td>\n",
       "      <td>2.000000</td>\n",
       "      <td>12000.000000</td>\n",
       "    </tr>\n",
       "    <tr>\n",
       "      <th>50%</th>\n",
       "      <td>2017.000000</td>\n",
       "      <td>2.000000</td>\n",
       "      <td>15750.000000</td>\n",
       "    </tr>\n",
       "    <tr>\n",
       "      <th>75%</th>\n",
       "      <td>2019.000000</td>\n",
       "      <td>2.000000</td>\n",
       "      <td>18500.000000</td>\n",
       "    </tr>\n",
       "    <tr>\n",
       "      <th>max</th>\n",
       "      <td>2023.000000</td>\n",
       "      <td>4.000000</td>\n",
       "      <td>87000.000000</td>\n",
       "    </tr>\n",
       "  </tbody>\n",
       "</table>\n",
       "</div>"
      ],
      "text/plain": [
       "              year  motor_volume         price\n",
       "count  1642.000000   1642.000000   1642.000000\n",
       "mean   2014.805725      2.035018  15982.633374\n",
       "std       6.587573      0.253069   7176.084647\n",
       "min    1987.000000      0.200000    462.000000\n",
       "25%    2013.000000      2.000000  12000.000000\n",
       "50%    2017.000000      2.000000  15750.000000\n",
       "75%    2019.000000      2.000000  18500.000000\n",
       "max    2023.000000      4.000000  87000.000000"
      ]
     },
     "execution_count": 9,
     "metadata": {},
     "output_type": "execute_result"
    }
   ],
   "source": [
    "import numpy as np\n",
    "\n",
    "df.describe(include=(np.number))"
   ]
  },
  {
   "cell_type": "code",
   "execution_count": 10,
   "metadata": {
    "hidden": true
   },
   "outputs": [
    {
     "data": {
      "image/png": "[encoded data removed]",
      "text/plain": [
       "<Figure size 640x480 with 1 Axes>"
      ]
     },
     "metadata": {},
     "output_type": "display_data"
    }
   ],
   "source": [
    "df['year'].hist();"
   ]
  },
  {
   "cell_type": "code",
   "execution_count": 11,
   "metadata": {
    "hidden": true
   },
   "outputs": [
    {
     "data": {
      "image/png": "[encoded data removed]",
      "text/plain": [
       "<Figure size 640x480 with 1 Axes>"
      ]
     },
     "metadata": {},
     "output_type": "display_data"
    }
   ],
   "source": [
    "df['price'].hist();"
   ]
  },
  {
   "cell_type": "code",
   "execution_count": 12,
   "metadata": {
    "hidden": true
   },
   "outputs": [
    {
     "data": {
      "text/html": [
       "<div>\n",
       "<style scoped>\n",
       "    .dataframe tbody tr th:only-of-type {\n",
       "        vertical-align: middle;\n",
       "    }\n",
       "\n",
       "    .dataframe tbody tr th {\n",
       "        vertical-align: top;\n",
       "    }\n",
       "\n",
       "    .dataframe thead th {\n",
       "        text-align: right;\n",
       "    }\n",
       "</style>\n",
       "<table border=\"1\" class=\"dataframe\">\n",
       "  <thead>\n",
       "    <tr style=\"text-align: right;\">\n",
       "      <th></th>\n",
       "      <th>model</th>\n",
       "      <th>motor_type</th>\n",
       "      <th>running</th>\n",
       "      <th>wheel</th>\n",
       "      <th>color</th>\n",
       "      <th>type</th>\n",
       "      <th>status</th>\n",
       "    </tr>\n",
       "  </thead>\n",
       "  <tbody>\n",
       "    <tr>\n",
       "      <th>count</th>\n",
       "      <td>1642</td>\n",
       "      <td>1642</td>\n",
       "      <td>1642</td>\n",
       "      <td>1642</td>\n",
       "      <td>1642</td>\n",
       "      <td>1642</td>\n",
       "      <td>1642</td>\n",
       "    </tr>\n",
       "    <tr>\n",
       "      <th>unique</th>\n",
       "      <td>5</td>\n",
       "      <td>5</td>\n",
       "      <td>643</td>\n",
       "      <td>1</td>\n",
       "      <td>17</td>\n",
       "      <td>7</td>\n",
       "      <td>5</td>\n",
       "    </tr>\n",
       "    <tr>\n",
       "      <th>top</th>\n",
       "      <td>mercedes-benz</td>\n",
       "      <td>petrol</td>\n",
       "      <td>300000  km</td>\n",
       "      <td>left</td>\n",
       "      <td>black</td>\n",
       "      <td>sedan</td>\n",
       "      <td>excellent</td>\n",
       "    </tr>\n",
       "    <tr>\n",
       "      <th>freq</th>\n",
       "      <td>402</td>\n",
       "      <td>1420</td>\n",
       "      <td>19</td>\n",
       "      <td>1642</td>\n",
       "      <td>541</td>\n",
       "      <td>1276</td>\n",
       "      <td>1200</td>\n",
       "    </tr>\n",
       "  </tbody>\n",
       "</table>\n",
       "</div>"
      ],
      "text/plain": [
       "                model motor_type     running wheel  color   type     status\n",
       "count            1642       1642        1642  1642   1642   1642       1642\n",
       "unique              5          5         643     1     17      7          5\n",
       "top     mercedes-benz     petrol  300000  km  left  black  sedan  excellent\n",
       "freq              402       1420          19  1642    541   1276       1200"
      ]
     },
     "execution_count": 12,
     "metadata": {},
     "output_type": "execute_result"
    }
   ],
   "source": [
    "df.describe(include=[object])"
   ]
  },
  {
   "cell_type": "code",
   "execution_count": 13,
   "metadata": {},
   "outputs": [],
   "source": [
    "indep_cols = ['model', 'year', 'motor_type', 'running', 'color', 'type', 'status', 'motor_volume']"
   ]
  },
  {
   "cell_type": "code",
   "execution_count": 14,
   "metadata": {},
   "outputs": [
    {
     "data": {
      "text/html": [
       "<div>\n",
       "<style scoped>\n",
       "    .dataframe tbody tr th:only-of-type {\n",
       "        vertical-align: middle;\n",
       "    }\n",
       "\n",
       "    .dataframe tbody tr th {\n",
       "        vertical-align: top;\n",
       "    }\n",
       "\n",
       "    .dataframe thead th {\n",
       "        text-align: right;\n",
       "    }\n",
       "</style>\n",
       "<table border=\"1\" class=\"dataframe\">\n",
       "  <thead>\n",
       "    <tr style=\"text-align: right;\">\n",
       "      <th></th>\n",
       "      <th>model</th>\n",
       "      <th>year</th>\n",
       "      <th>motor_type</th>\n",
       "      <th>running</th>\n",
       "      <th>color</th>\n",
       "      <th>type</th>\n",
       "      <th>status</th>\n",
       "      <th>motor_volume</th>\n",
       "    </tr>\n",
       "  </thead>\n",
       "  <tbody>\n",
       "    <tr>\n",
       "      <th>0</th>\n",
       "      <td>toyota</td>\n",
       "      <td>2022</td>\n",
       "      <td>petrol</td>\n",
       "      <td>3000  km</td>\n",
       "      <td>skyblue</td>\n",
       "      <td>sedan</td>\n",
       "      <td>excellent</td>\n",
       "      <td>2.0</td>\n",
       "    </tr>\n",
       "    <tr>\n",
       "      <th>1</th>\n",
       "      <td>mercedes-benz</td>\n",
       "      <td>2014</td>\n",
       "      <td>petrol</td>\n",
       "      <td>132000  km</td>\n",
       "      <td>black</td>\n",
       "      <td>sedan</td>\n",
       "      <td>excellent</td>\n",
       "      <td>2.0</td>\n",
       "    </tr>\n",
       "    <tr>\n",
       "      <th>2</th>\n",
       "      <td>kia</td>\n",
       "      <td>2018</td>\n",
       "      <td>petrol</td>\n",
       "      <td>95000  miles</td>\n",
       "      <td>other</td>\n",
       "      <td>sedan</td>\n",
       "      <td>excellent</td>\n",
       "      <td>2.0</td>\n",
       "    </tr>\n",
       "    <tr>\n",
       "      <th>3</th>\n",
       "      <td>mercedes-benz</td>\n",
       "      <td>2002</td>\n",
       "      <td>petrol</td>\n",
       "      <td>137000  miles</td>\n",
       "      <td>golden</td>\n",
       "      <td>sedan</td>\n",
       "      <td>excellent</td>\n",
       "      <td>3.2</td>\n",
       "    </tr>\n",
       "    <tr>\n",
       "      <th>4</th>\n",
       "      <td>mercedes-benz</td>\n",
       "      <td>2017</td>\n",
       "      <td>petrol</td>\n",
       "      <td>130000  km</td>\n",
       "      <td>black</td>\n",
       "      <td>sedan</td>\n",
       "      <td>good</td>\n",
       "      <td>2.0</td>\n",
       "    </tr>\n",
       "  </tbody>\n",
       "</table>\n",
       "</div>"
      ],
      "text/plain": [
       "           model  year motor_type        running    color   type     status  motor_volume\n",
       "0         toyota  2022     petrol       3000  km  skyblue  sedan  excellent           2.0\n",
       "1  mercedes-benz  2014     petrol     132000  km    black  sedan  excellent           2.0\n",
       "2            kia  2018     petrol   95000  miles    other  sedan  excellent           2.0\n",
       "3  mercedes-benz  2002     petrol  137000  miles   golden  sedan  excellent           3.2\n",
       "4  mercedes-benz  2017     petrol     130000  km    black  sedan       good           2.0"
      ]
     },
     "execution_count": 14,
     "metadata": {},
     "output_type": "execute_result"
    }
   ],
   "source": [
    "df[indep_cols].dtypes\n",
    "df[indep_cols].head()"
   ]
  },
  {
   "cell_type": "code",
   "execution_count": 15,
   "metadata": {},
   "outputs": [
    {
     "data": {
      "text/plain": [
       "0         3000  km\n",
       "1       132000  km\n",
       "2     95000  miles\n",
       "3    137000  miles\n",
       "4       130000  km\n",
       "Name: running, dtype: object"
      ]
     },
     "execution_count": 15,
     "metadata": {},
     "output_type": "execute_result"
    }
   ],
   "source": [
    "df['running'].dtype\n",
    "df['running'].head()"
   ]
  },
  {
   "cell_type": "code",
   "execution_count": 16,
   "metadata": {},
   "outputs": [],
   "source": [
    "def dataNormalize(df, mode=\"train\"):\n",
    "    from sklearn.preprocessing import LabelEncoder\n",
    "    df[['number', 'unit']] = df['running'].str.split(expand=True)\n",
    "    df['number'] = df['number'].astype(float)\n",
    "    df.loc[df['unit'] == 'miles', 'number'] *= 1.60934\n",
    "    df['running'] = df['number']  \n",
    "    df.drop(columns=['number', 'unit'], inplace=True)  \n",
    "    le = LabelEncoder()\n",
    "    df[\"color\"] = le.fit_transform(df[\"color\"])\n",
    "    df[\"type\"] = le.fit_transform(df[\"type\"])\n",
    "    df[\"status\"] = le.fit_transform(df[\"status\"])\n",
    "    if mode == \"train\":\n",
    "        df['price'] = df['price'].astype(float)\n",
    "    df[\"model\"] = le.fit_transform(df[\"model\"])\n",
    "    df[\"motor_type\"] = le.fit_transform(df[\"motor_type\"])\n",
    "    df[\"running\"] = pd.to_numeric(df[\"running\"], errors=\"coerce\")\n",
    "    color_mapping = dict(zip(le.classes_, le.transform(le.classes_)))\n",
    "    color_mapping\n",
    "    for i in range(len(df[\"wheel\"])):\n",
    "        df.loc[i, \"wheel\"] = 1 \n",
    "    return df\n"
   ]
  },
  {
   "cell_type": "code",
   "execution_count": 17,
   "metadata": {},
   "outputs": [],
   "source": [
    "df = dataNormalize(df)"
   ]
  },
  {
   "cell_type": "code",
   "execution_count": 18,
   "metadata": {
    "hidden": true
   },
   "outputs": [],
   "source": [
    "from torch import tensor\n",
    "\n",
    "t_indep = tensor(df[indep_cols].values, dtype=torch.float)\n",
    "t_dep = tensor(df.price.values, dtype=torch.float)"
   ]
  },
  {
   "cell_type": "code",
   "execution_count": 19,
   "metadata": {},
   "outputs": [],
   "source": [
    "t_dep\n",
    "n_coeff = t_indep.shape[1]"
   ]
  },
  {
   "cell_type": "code",
   "execution_count": 20,
   "metadata": {},
   "outputs": [
    {
     "data": {
      "text/html": [
       "<div>\n",
       "<style scoped>\n",
       "    .dataframe tbody tr th:only-of-type {\n",
       "        vertical-align: middle;\n",
       "    }\n",
       "\n",
       "    .dataframe tbody tr th {\n",
       "        vertical-align: top;\n",
       "    }\n",
       "\n",
       "    .dataframe thead th {\n",
       "        text-align: right;\n",
       "    }\n",
       "</style>\n",
       "<table border=\"1\" class=\"dataframe\">\n",
       "  <thead>\n",
       "    <tr style=\"text-align: right;\">\n",
       "      <th></th>\n",
       "      <th>model</th>\n",
       "      <th>year</th>\n",
       "      <th>motor_type</th>\n",
       "      <th>running</th>\n",
       "      <th>wheel</th>\n",
       "      <th>color</th>\n",
       "      <th>type</th>\n",
       "      <th>status</th>\n",
       "      <th>motor_volume</th>\n",
       "      <th>price</th>\n",
       "    </tr>\n",
       "  </thead>\n",
       "  <tbody>\n",
       "    <tr>\n",
       "      <th>0</th>\n",
       "      <td>4</td>\n",
       "      <td>2022</td>\n",
       "      <td>3</td>\n",
       "      <td>3000.000</td>\n",
       "      <td>1</td>\n",
       "      <td>15</td>\n",
       "      <td>5</td>\n",
       "      <td>1</td>\n",
       "      <td>2.0</td>\n",
       "      <td>24500.0</td>\n",
       "    </tr>\n",
       "    <tr>\n",
       "      <th>1</th>\n",
       "      <td>2</td>\n",
       "      <td>2014</td>\n",
       "      <td>3</td>\n",
       "      <td>132000.000</td>\n",
       "      <td>1</td>\n",
       "      <td>1</td>\n",
       "      <td>5</td>\n",
       "      <td>1</td>\n",
       "      <td>2.0</td>\n",
       "      <td>25500.0</td>\n",
       "    </tr>\n",
       "    <tr>\n",
       "      <th>2</th>\n",
       "      <td>1</td>\n",
       "      <td>2018</td>\n",
       "      <td>3</td>\n",
       "      <td>152887.300</td>\n",
       "      <td>1</td>\n",
       "      <td>10</td>\n",
       "      <td>5</td>\n",
       "      <td>1</td>\n",
       "      <td>2.0</td>\n",
       "      <td>11700.0</td>\n",
       "    </tr>\n",
       "    <tr>\n",
       "      <th>3</th>\n",
       "      <td>2</td>\n",
       "      <td>2002</td>\n",
       "      <td>3</td>\n",
       "      <td>220479.580</td>\n",
       "      <td>1</td>\n",
       "      <td>6</td>\n",
       "      <td>5</td>\n",
       "      <td>1</td>\n",
       "      <td>3.2</td>\n",
       "      <td>12000.0</td>\n",
       "    </tr>\n",
       "    <tr>\n",
       "      <th>4</th>\n",
       "      <td>2</td>\n",
       "      <td>2017</td>\n",
       "      <td>3</td>\n",
       "      <td>130000.000</td>\n",
       "      <td>1</td>\n",
       "      <td>1</td>\n",
       "      <td>5</td>\n",
       "      <td>2</td>\n",
       "      <td>2.0</td>\n",
       "      <td>26000.0</td>\n",
       "    </tr>\n",
       "    <tr>\n",
       "      <th>...</th>\n",
       "      <td>...</td>\n",
       "      <td>...</td>\n",
       "      <td>...</td>\n",
       "      <td>...</td>\n",
       "      <td>...</td>\n",
       "      <td>...</td>\n",
       "      <td>...</td>\n",
       "      <td>...</td>\n",
       "      <td>...</td>\n",
       "      <td>...</td>\n",
       "    </tr>\n",
       "    <tr>\n",
       "      <th>1637</th>\n",
       "      <td>0</td>\n",
       "      <td>2017</td>\n",
       "      <td>3</td>\n",
       "      <td>193120.800</td>\n",
       "      <td>1</td>\n",
       "      <td>16</td>\n",
       "      <td>5</td>\n",
       "      <td>2</td>\n",
       "      <td>2.0</td>\n",
       "      <td>12400.0</td>\n",
       "    </tr>\n",
       "    <tr>\n",
       "      <th>1638</th>\n",
       "      <td>4</td>\n",
       "      <td>2014</td>\n",
       "      <td>3</td>\n",
       "      <td>170000.000</td>\n",
       "      <td>1</td>\n",
       "      <td>1</td>\n",
       "      <td>5</td>\n",
       "      <td>2</td>\n",
       "      <td>2.0</td>\n",
       "      <td>16500.0</td>\n",
       "    </tr>\n",
       "    <tr>\n",
       "      <th>1639</th>\n",
       "      <td>3</td>\n",
       "      <td>2018</td>\n",
       "      <td>3</td>\n",
       "      <td>110883.526</td>\n",
       "      <td>1</td>\n",
       "      <td>2</td>\n",
       "      <td>6</td>\n",
       "      <td>2</td>\n",
       "      <td>2.0</td>\n",
       "      <td>19500.0</td>\n",
       "    </tr>\n",
       "    <tr>\n",
       "      <th>1640</th>\n",
       "      <td>3</td>\n",
       "      <td>2019</td>\n",
       "      <td>3</td>\n",
       "      <td>49889.540</td>\n",
       "      <td>1</td>\n",
       "      <td>1</td>\n",
       "      <td>6</td>\n",
       "      <td>1</td>\n",
       "      <td>2.0</td>\n",
       "      <td>19500.0</td>\n",
       "    </tr>\n",
       "    <tr>\n",
       "      <th>1641</th>\n",
       "      <td>4</td>\n",
       "      <td>2022</td>\n",
       "      <td>3</td>\n",
       "      <td>20.000</td>\n",
       "      <td>1</td>\n",
       "      <td>16</td>\n",
       "      <td>5</td>\n",
       "      <td>1</td>\n",
       "      <td>2.0</td>\n",
       "      <td>28500.0</td>\n",
       "    </tr>\n",
       "  </tbody>\n",
       "</table>\n",
       "<p>1642 rows × 10 columns</p>\n",
       "</div>"
      ],
      "text/plain": [
       "      model  year  motor_type     running wheel  color  type  status  motor_volume    price\n",
       "0         4  2022           3    3000.000     1     15     5       1           2.0  24500.0\n",
       "1         2  2014           3  132000.000     1      1     5       1           2.0  25500.0\n",
       "2         1  2018           3  152887.300     1     10     5       1           2.0  11700.0\n",
       "3         2  2002           3  220479.580     1      6     5       1           3.2  12000.0\n",
       "4         2  2017           3  130000.000     1      1     5       2           2.0  26000.0\n",
       "...     ...   ...         ...         ...   ...    ...   ...     ...           ...      ...\n",
       "1637      0  2017           3  193120.800     1     16     5       2           2.0  12400.0\n",
       "1638      4  2014           3  170000.000     1      1     5       2           2.0  16500.0\n",
       "1639      3  2018           3  110883.526     1      2     6       2           2.0  19500.0\n",
       "1640      3  2019           3   49889.540     1      1     6       1           2.0  19500.0\n",
       "1641      4  2022           3      20.000     1     16     5       1           2.0  28500.0\n",
       "\n",
       "[1642 rows x 10 columns]"
      ]
     },
     "execution_count": 20,
     "metadata": {},
     "output_type": "execute_result"
    }
   ],
   "source": [
    "df"
   ]
  },
  {
   "cell_type": "code",
   "execution_count": 21,
   "metadata": {},
   "outputs": [
    {
     "name": "stdout",
     "output_type": "stream",
     "text": [
      "model             int64\n",
      "year              int64\n",
      "motor_type        int64\n",
      "running         float64\n",
      "wheel            object\n",
      "color             int64\n",
      "type              int64\n",
      "status            int64\n",
      "motor_volume    float64\n",
      "price           float64\n",
      "dtype: object\n"
     ]
    }
   ],
   "source": [
    "print(df.dtypes)"
   ]
  },
  {
   "cell_type": "code",
   "execution_count": 22,
   "metadata": {},
   "outputs": [],
   "source": [
    "t_indep = tensor(df[indep_cols].values, dtype=torch.float)"
   ]
  },
  {
   "cell_type": "markdown",
   "metadata": {
    "hidden": true
   },
   "source": [
    "Here's the number of rows and columns we have for our independent variables:"
   ]
  },
  {
   "cell_type": "code",
   "execution_count": 23,
   "metadata": {
    "hidden": true
   },
   "outputs": [
    {
     "data": {
      "text/plain": [
       "torch.Size([1642, 8])"
      ]
     },
     "execution_count": 23,
     "metadata": {},
     "output_type": "execute_result"
    }
   ],
   "source": [
    "t_indep.shape"
   ]
  },
  {
   "cell_type": "code",
   "execution_count": 24,
   "metadata": {},
   "outputs": [
    {
     "name": "stdout",
     "output_type": "stream",
     "text": [
      "True\n"
     ]
    }
   ],
   "source": [
    "print(torch.cuda.is_available())\n",
    "device = torch.device(\"cuda\" if torch.cuda.is_available() else \"cpu\")"
   ]
  },
  {
   "cell_type": "code",
   "execution_count": 25,
   "metadata": {},
   "outputs": [],
   "source": [
    "def one_epoch(coeffs, optimizer, lr):\n",
    "    optimizer.zero_grad()\n",
    "    loss = calc_loss(coeffs, trn_indep, trn_dep)\n",
    "    loss.backward()\n",
    "    optimizer.step()\n",
    "    return round(loss.item(), 3)\n"
   ]
  },
  {
   "cell_type": "code",
   "execution_count": 26,
   "metadata": {},
   "outputs": [],
   "source": [
    "from fastai.data.transforms import RandomSplitter\n",
    "trn_split,val_split=RandomSplitter(seed=42)(df)"
   ]
  },
  {
   "cell_type": "code",
   "execution_count": 27,
   "metadata": {},
   "outputs": [],
   "source": [
    "t_indep = tensor(df[indep_cols].values, dtype=torch.float)\n",
    "feature_mean = t_indep.mean(dim=0)\n",
    "feature_std = t_indep.std(dim=0)"
   ]
  },
  {
   "cell_type": "code",
   "execution_count": 28,
   "metadata": {},
   "outputs": [],
   "source": [
    "trn_indep,val_indep = t_indep[trn_split],t_indep[val_split]\n",
    "trn_dep,val_dep = t_dep[trn_split],t_dep[val_split]"
   ]
  },
  {
   "cell_type": "code",
   "execution_count": 29,
   "metadata": {},
   "outputs": [],
   "source": [
    "trn_indep = (trn_indep - feature_mean) / feature_std\n",
    "val_indep = (val_indep - feature_mean) / feature_std\n",
    "trn_dep_mean = trn_dep.mean()\n",
    "trn_dep_std = trn_dep.std()\n",
    "trn_dep = (trn_dep - trn_dep_mean) / trn_dep_std\n",
    "val_dep = (val_dep - trn_dep_mean) / trn_dep_std"
   ]
  },
  {
   "cell_type": "code",
   "execution_count": 30,
   "metadata": {},
   "outputs": [
    {
     "name": "stdout",
     "output_type": "stream",
     "text": [
      "trn_dep dtype: torch.float32\n",
      "val_dep dtype: torch.float32\n"
     ]
    }
   ],
   "source": [
    "print(\"trn_dep dtype:\", trn_dep.dtype)\n",
    "print(\"val_dep dtype:\", val_dep.dtype)"
   ]
  },
  {
   "cell_type": "code",
   "execution_count": 31,
   "metadata": {},
   "outputs": [],
   "source": [
    "trn_indep = trn_indep.to(device)\n",
    "trn_dep = trn_dep.to(device)\n",
    "val_indep = val_indep.to(device)\n",
    "val_dep = val_dep.to(device)"
   ]
  },
  {
   "cell_type": "code",
   "execution_count": 32,
   "metadata": {},
   "outputs": [],
   "source": [
    "def update_coeffs(coeffs, lr):\n",
    "    coeffs.sub_(coeffs.grad * lr)\n",
    "    coeffs.grad.zero_()"
   ]
  },
  {
   "cell_type": "code",
   "execution_count": 33,
   "metadata": {},
   "outputs": [
    {
     "data": {
      "text/plain": [
       "8"
      ]
     },
     "execution_count": 33,
     "metadata": {},
     "output_type": "execute_result"
    }
   ],
   "source": [
    "n_coeff = trn_indep.shape[1] \n",
    "n_coeff"
   ]
  },
  {
   "cell_type": "code",
   "execution_count": 34,
   "metadata": {},
   "outputs": [],
   "source": [
    "import torch\n",
    "import torch.nn as nn\n",
    "\n",
    "class CustomNN(nn.Module):\n",
    "    def __init__(self, n_coeff):\n",
    "        super(CustomNN, self).__init__()\n",
    "        self.fc1 = nn.Linear(n_coeff, 32)\n",
    "        self.fc2 = nn.Linear(32, 16)\n",
    "        self.fc3 = nn.Linear(16, 1)\n",
    "        self.activation = nn.ReLU()\n",
    "    \n",
    "    def forward(self, x):\n",
    "        x = self.activation(self.fc1(x))\n",
    "        x = self.activation(self.fc2(x))\n",
    "        return self.fc3(x)\n",
    "\n",
    "def init_coeffs():\n",
    "    model = CustomNN(n_coeff)\n",
    "    return model.to(device)\n"
   ]
  },
  {
   "cell_type": "code",
   "execution_count": 35,
   "metadata": {},
   "outputs": [],
   "source": [
    "def calc_preds(coeffs, indeps, denormalize=False):\n",
    "    preds = coeffs(indeps)\n",
    "    if denormalize:\n",
    "        preds = preds * trn_dep_std + trn_dep_mean\n",
    "    return preds\n",
    "def calc_loss(coeffs, indeps, deps): \n",
    "    return torch.nn.functional.mse_loss(calc_preds(coeffs, indeps, denormalize=False), deps.view(-1, 1))"
   ]
  },
  {
   "cell_type": "code",
   "execution_count": 36,
   "metadata": {},
   "outputs": [],
   "source": [
    "def show_coeffs():\n",
    "    return dict(zip(indep_cols, coeffs.fc1.weight.detach().cpu().numpy()))"
   ]
  },
  {
   "cell_type": "code",
   "execution_count": 37,
   "metadata": {},
   "outputs": [],
   "source": [
    "def acc(coeffs): return (val_dep.bool()==(calc_preds(coeffs, val_indep)>0.5)).float().mean()"
   ]
  },
  {
   "cell_type": "code",
   "execution_count": 38,
   "metadata": {},
   "outputs": [],
   "source": [
    "losses = []\n",
    "def train_model(epochs=5000, lr=0.001):\n",
    "    torch.manual_seed(442)\n",
    "    coeffs = init_coeffs()\n",
    "    optimizer = torch.optim.Adam(coeffs.parameters(), lr=lr)\n",
    "    for i in range(epochs): \n",
    "        loss = one_epoch(coeffs, optimizer, lr=lr)\n",
    "        losses.append(loss)\n",
    "    return coeffs"
   ]
  },
  {
   "cell_type": "code",
   "execution_count": 39,
   "metadata": {
    "scrolled": true
   },
   "outputs": [
    {
     "name": "stdout",
     "output_type": "stream",
     "text": [
      "Using device: cuda\n"
     ]
    }
   ],
   "source": [
    "print(f\"Using device: {device}\") \n",
    "coeffs = train_model()"
   ]
  },
  {
   "cell_type": "code",
   "execution_count": 40,
   "metadata": {},
   "outputs": [
    {
     "name": "stdout",
     "output_type": "stream",
     "text": [
      "0.074\n",
      "4931 0.074\n"
     ]
    }
   ],
   "source": [
    "rloss = losses[:]\n",
    "rloss.reverse()\n",
    "print(losses[-1])\n",
    "idx = 0\n",
    "minv = float('inf')\n",
    "for i,val in enumerate(losses):\n",
    "    if val < minv:\n",
    "        minv = val\n",
    "        idx = i\n",
    "print(idx,minv)\n"
   ]
  },
  {
   "cell_type": "code",
   "execution_count": 41,
   "metadata": {},
   "outputs": [
    {
     "data": {
      "image/png": "[encoded data removed]",
      "text/plain": [
       "<Figure size 1000x500 with 1 Axes>"
      ]
     },
     "metadata": {},
     "output_type": "display_data"
    }
   ],
   "source": [
    "import numpy as np\n",
    "import matplotlib.pyplot as plt\n",
    "losses_sorted = losses\n",
    "shotenloss = losses[6500:6900]\n",
    "epochs = np.arange(1, len(losses_sorted) + 1) \n",
    "\n",
    "poly_coeffs = np.polyfit(epochs, losses_sorted, deg=5) \n",
    "smooth_curve = np.polyval(poly_coeffs, epochs)\n",
    "\n",
    "plt.figure(figsize=(10, 5))\n",
    "plt.scatter(epochs, losses_sorted, s=1, label=\"Sorted Loss\", alpha=0.3)  \n",
    "plt.plot(epochs, smooth_curve, color=\"red\", linewidth=2, label=\"Best-Fit Curve\")  \n",
    "\n",
    "plt.xlabel(\"Sorted Index\")\n",
    "plt.ylabel(\"Loss\")\n",
    "plt.title(\"Loss Curve with Best-Fit Trend\")\n",
    "plt.legend()\n",
    "plt.grid()\n",
    "\n",
    "plt.show()"
   ]
  },
  {
   "cell_type": "code",
   "execution_count": 42,
   "metadata": {},
   "outputs": [],
   "source": [
    "preds = calc_preds(coeffs, trn_indep)"
   ]
  },
  {
   "cell_type": "code",
   "execution_count": 43,
   "metadata": {},
   "outputs": [
    {
     "name": "stdout",
     "output_type": "stream",
     "text": [
      "preds dtype: torch.float32, shape: torch.Size([1314, 1]), min: -1.8555055856704712, max: 9.991864204406738\n",
      "trn_dep dtype: torch.float32, shape: torch.Size([1314]), min: -1.9053051471710205, max: 9.90052604675293\n"
     ]
    }
   ],
   "source": [
    "print(f\"preds dtype: {preds.dtype}, shape: {preds.shape}, min: {preds.min().item()}, max: {preds.max().item()}\")\n",
    "print(f\"trn_dep dtype: {trn_dep.dtype}, shape: {trn_dep.shape}, min: {trn_dep.min().item()}, max: {trn_dep.max().item()}\")"
   ]
  },
  {
   "cell_type": "code",
   "execution_count": 44,
   "metadata": {},
   "outputs": [
    {
     "data": {
      "text/plain": [
       "tensor(0.2683, device='cuda:0')"
      ]
     },
     "execution_count": 44,
     "metadata": {},
     "output_type": "execute_result"
    }
   ],
   "source": [
    "acc(coeffs)"
   ]
  },
  {
   "cell_type": "code",
   "execution_count": 45,
   "metadata": {},
   "outputs": [
    {
     "data": {
      "text/plain": [
       "{'model': array([-1.0969512 , -0.07970248,  0.3241973 , -0.13789266, -0.16757502, -0.15545435, -0.07152127,  0.52653193], dtype=float32),\n",
       " 'year': array([ 0.54021454, -0.59752667,  0.34681675,  0.4803781 ,  0.0555432 , -0.0288152 , -0.43801272,  0.41833934], dtype=float32),\n",
       " 'motor_type': array([-1.0863116 , -0.09032356,  0.11651357, -0.02876612, -0.09225291,  0.9460719 , -0.03593494, -0.09867609], dtype=float32),\n",
       " 'running': array([ 0.56000054,  0.07560035, -0.03153471, -0.03901253,  0.4215877 , -0.35106784, -0.18622759,  0.5491186 ], dtype=float32),\n",
       " 'color': array([ 1.1255091 ,  0.25600344,  0.11957487,  0.1117321 ,  0.01305657, -0.26794195,  0.00647894, -0.02480522], dtype=float32),\n",
       " 'type': array([-0.30390403, -0.2575195 ,  0.26348236, -0.23377955,  0.71873593,  0.70225626,  0.01469602, -0.15143202], dtype=float32),\n",
       " 'status': array([-0.6239609 ,  0.22092248,  0.46623605, -0.18974502, -0.0356504 , -0.44169432,  0.09812913, -0.504383  ], dtype=float32),\n",
       " 'motor_volume': array([-0.16229255,  0.02518289, -0.08705484, -0.86481625, -0.17909932,  0.4400788 , -0.6873513 , -0.11125407], dtype=float32)}"
      ]
     },
     "execution_count": 45,
     "metadata": {},
     "output_type": "execute_result"
    }
   ],
   "source": [
    "show_coeffs()"
   ]
  },
  {
   "cell_type": "code",
   "execution_count": 46,
   "metadata": {},
   "outputs": [
    {
     "data": {
      "text/html": [
       "<div>\n",
       "<style scoped>\n",
       "    .dataframe tbody tr th:only-of-type {\n",
       "        vertical-align: middle;\n",
       "    }\n",
       "\n",
       "    .dataframe tbody tr th {\n",
       "        vertical-align: top;\n",
       "    }\n",
       "\n",
       "    .dataframe thead th {\n",
       "        text-align: right;\n",
       "    }\n",
       "</style>\n",
       "<table border=\"1\" class=\"dataframe\">\n",
       "  <thead>\n",
       "    <tr style=\"text-align: right;\">\n",
       "      <th></th>\n",
       "      <th>Id</th>\n",
       "      <th>model</th>\n",
       "      <th>year</th>\n",
       "      <th>motor_type</th>\n",
       "      <th>running</th>\n",
       "      <th>wheel</th>\n",
       "      <th>color</th>\n",
       "      <th>type</th>\n",
       "      <th>status</th>\n",
       "      <th>motor_volume</th>\n",
       "    </tr>\n",
       "  </thead>\n",
       "  <tbody>\n",
       "    <tr>\n",
       "      <th>0</th>\n",
       "      <td>0</td>\n",
       "      <td>kia</td>\n",
       "      <td>2020</td>\n",
       "      <td>petrol</td>\n",
       "      <td>24000  km</td>\n",
       "      <td>left</td>\n",
       "      <td>black</td>\n",
       "      <td>sedan</td>\n",
       "      <td>excellent</td>\n",
       "      <td>2.0</td>\n",
       "    </tr>\n",
       "    <tr>\n",
       "      <th>1</th>\n",
       "      <td>1</td>\n",
       "      <td>nissan</td>\n",
       "      <td>2017</td>\n",
       "      <td>petrol</td>\n",
       "      <td>85000  miles</td>\n",
       "      <td>left</td>\n",
       "      <td>white</td>\n",
       "      <td>suv</td>\n",
       "      <td>excellent</td>\n",
       "      <td>2.0</td>\n",
       "    </tr>\n",
       "    <tr>\n",
       "      <th>2</th>\n",
       "      <td>2</td>\n",
       "      <td>hyundai</td>\n",
       "      <td>2021</td>\n",
       "      <td>petrol</td>\n",
       "      <td>30000  miles</td>\n",
       "      <td>left</td>\n",
       "      <td>white</td>\n",
       "      <td>sedan</td>\n",
       "      <td>excellent</td>\n",
       "      <td>2.0</td>\n",
       "    </tr>\n",
       "    <tr>\n",
       "      <th>3</th>\n",
       "      <td>3</td>\n",
       "      <td>kia</td>\n",
       "      <td>2018</td>\n",
       "      <td>petrol</td>\n",
       "      <td>53000  miles</td>\n",
       "      <td>left</td>\n",
       "      <td>silver</td>\n",
       "      <td>sedan</td>\n",
       "      <td>excellent</td>\n",
       "      <td>2.0</td>\n",
       "    </tr>\n",
       "    <tr>\n",
       "      <th>4</th>\n",
       "      <td>4</td>\n",
       "      <td>mercedes-benz</td>\n",
       "      <td>2003</td>\n",
       "      <td>petrol</td>\n",
       "      <td>230000  km</td>\n",
       "      <td>left</td>\n",
       "      <td>black</td>\n",
       "      <td>Universal</td>\n",
       "      <td>normal</td>\n",
       "      <td>1.8</td>\n",
       "    </tr>\n",
       "    <tr>\n",
       "      <th>...</th>\n",
       "      <td>...</td>\n",
       "      <td>...</td>\n",
       "      <td>...</td>\n",
       "      <td>...</td>\n",
       "      <td>...</td>\n",
       "      <td>...</td>\n",
       "      <td>...</td>\n",
       "      <td>...</td>\n",
       "      <td>...</td>\n",
       "      <td>...</td>\n",
       "    </tr>\n",
       "    <tr>\n",
       "      <th>406</th>\n",
       "      <td>406</td>\n",
       "      <td>nissan</td>\n",
       "      <td>2021</td>\n",
       "      <td>petrol</td>\n",
       "      <td>33400  km</td>\n",
       "      <td>left</td>\n",
       "      <td>black</td>\n",
       "      <td>suv</td>\n",
       "      <td>excellent</td>\n",
       "      <td>2.0</td>\n",
       "    </tr>\n",
       "    <tr>\n",
       "      <th>407</th>\n",
       "      <td>407</td>\n",
       "      <td>hyundai</td>\n",
       "      <td>2017</td>\n",
       "      <td>petrol</td>\n",
       "      <td>60000  miles</td>\n",
       "      <td>left</td>\n",
       "      <td>other</td>\n",
       "      <td>sedan</td>\n",
       "      <td>excellent</td>\n",
       "      <td>2.0</td>\n",
       "    </tr>\n",
       "    <tr>\n",
       "      <th>408</th>\n",
       "      <td>408</td>\n",
       "      <td>mercedes-benz</td>\n",
       "      <td>2012</td>\n",
       "      <td>petrol</td>\n",
       "      <td>218000  km</td>\n",
       "      <td>left</td>\n",
       "      <td>white</td>\n",
       "      <td>sedan</td>\n",
       "      <td>good</td>\n",
       "      <td>2.0</td>\n",
       "    </tr>\n",
       "    <tr>\n",
       "      <th>409</th>\n",
       "      <td>409</td>\n",
       "      <td>kia</td>\n",
       "      <td>2020</td>\n",
       "      <td>petrol</td>\n",
       "      <td>40000  miles</td>\n",
       "      <td>left</td>\n",
       "      <td>red</td>\n",
       "      <td>sedan</td>\n",
       "      <td>good</td>\n",
       "      <td>2.0</td>\n",
       "    </tr>\n",
       "    <tr>\n",
       "      <th>410</th>\n",
       "      <td>410</td>\n",
       "      <td>hyundai</td>\n",
       "      <td>2017</td>\n",
       "      <td>petrol</td>\n",
       "      <td>120000  miles</td>\n",
       "      <td>left</td>\n",
       "      <td>white</td>\n",
       "      <td>sedan</td>\n",
       "      <td>excellent</td>\n",
       "      <td>2.0</td>\n",
       "    </tr>\n",
       "  </tbody>\n",
       "</table>\n",
       "<p>411 rows × 10 columns</p>\n",
       "</div>"
      ],
      "text/plain": [
       "      Id          model  year motor_type        running wheel   color       type     status  motor_volume\n",
       "0      0            kia  2020     petrol      24000  km  left   black      sedan  excellent           2.0\n",
       "1      1         nissan  2017     petrol   85000  miles  left   white        suv  excellent           2.0\n",
       "2      2        hyundai  2021     petrol   30000  miles  left   white      sedan  excellent           2.0\n",
       "3      3            kia  2018     petrol   53000  miles  left  silver      sedan  excellent           2.0\n",
       "4      4  mercedes-benz  2003     petrol     230000  km  left   black  Universal     normal           1.8\n",
       "..   ...            ...   ...        ...            ...   ...     ...        ...        ...           ...\n",
       "406  406         nissan  2021     petrol      33400  km  left   black        suv  excellent           2.0\n",
       "407  407        hyundai  2017     petrol   60000  miles  left   other      sedan  excellent           2.0\n",
       "408  408  mercedes-benz  2012     petrol     218000  km  left   white      sedan       good           2.0\n",
       "409  409            kia  2020     petrol   40000  miles  left     red      sedan       good           2.0\n",
       "410  410        hyundai  2017     petrol  120000  miles  left   white      sedan  excellent           2.0\n",
       "\n",
       "[411 rows x 10 columns]"
      ]
     },
     "execution_count": 46,
     "metadata": {},
     "output_type": "execute_result"
    }
   ],
   "source": [
    "tst_df = pd.read_csv(path/'test.csv')\n",
    "tst_df"
   ]
  },
  {
   "cell_type": "code",
   "execution_count": 47,
   "metadata": {},
   "outputs": [
    {
     "data": {
      "text/html": [
       "<div>\n",
       "<style scoped>\n",
       "    .dataframe tbody tr th:only-of-type {\n",
       "        vertical-align: middle;\n",
       "    }\n",
       "\n",
       "    .dataframe tbody tr th {\n",
       "        vertical-align: top;\n",
       "    }\n",
       "\n",
       "    .dataframe thead th {\n",
       "        text-align: right;\n",
       "    }\n",
       "</style>\n",
       "<table border=\"1\" class=\"dataframe\">\n",
       "  <thead>\n",
       "    <tr style=\"text-align: right;\">\n",
       "      <th></th>\n",
       "      <th>Id</th>\n",
       "      <th>model</th>\n",
       "      <th>year</th>\n",
       "      <th>motor_type</th>\n",
       "      <th>running</th>\n",
       "      <th>wheel</th>\n",
       "      <th>color</th>\n",
       "      <th>type</th>\n",
       "      <th>status</th>\n",
       "      <th>motor_volume</th>\n",
       "    </tr>\n",
       "  </thead>\n",
       "  <tbody>\n",
       "    <tr>\n",
       "      <th>0</th>\n",
       "      <td>0</td>\n",
       "      <td>1</td>\n",
       "      <td>2020</td>\n",
       "      <td>1</td>\n",
       "      <td>24000.00</td>\n",
       "      <td>1</td>\n",
       "      <td>1</td>\n",
       "      <td>3</td>\n",
       "      <td>1</td>\n",
       "      <td>2.0</td>\n",
       "    </tr>\n",
       "    <tr>\n",
       "      <th>1</th>\n",
       "      <td>1</td>\n",
       "      <td>3</td>\n",
       "      <td>2017</td>\n",
       "      <td>1</td>\n",
       "      <td>136793.90</td>\n",
       "      <td>1</td>\n",
       "      <td>13</td>\n",
       "      <td>4</td>\n",
       "      <td>1</td>\n",
       "      <td>2.0</td>\n",
       "    </tr>\n",
       "    <tr>\n",
       "      <th>2</th>\n",
       "      <td>2</td>\n",
       "      <td>0</td>\n",
       "      <td>2021</td>\n",
       "      <td>1</td>\n",
       "      <td>48280.20</td>\n",
       "      <td>1</td>\n",
       "      <td>13</td>\n",
       "      <td>3</td>\n",
       "      <td>1</td>\n",
       "      <td>2.0</td>\n",
       "    </tr>\n",
       "    <tr>\n",
       "      <th>3</th>\n",
       "      <td>3</td>\n",
       "      <td>1</td>\n",
       "      <td>2018</td>\n",
       "      <td>1</td>\n",
       "      <td>85295.02</td>\n",
       "      <td>1</td>\n",
       "      <td>11</td>\n",
       "      <td>3</td>\n",
       "      <td>1</td>\n",
       "      <td>2.0</td>\n",
       "    </tr>\n",
       "    <tr>\n",
       "      <th>4</th>\n",
       "      <td>4</td>\n",
       "      <td>2</td>\n",
       "      <td>2003</td>\n",
       "      <td>1</td>\n",
       "      <td>230000.00</td>\n",
       "      <td>1</td>\n",
       "      <td>1</td>\n",
       "      <td>1</td>\n",
       "      <td>4</td>\n",
       "      <td>1.8</td>\n",
       "    </tr>\n",
       "    <tr>\n",
       "      <th>...</th>\n",
       "      <td>...</td>\n",
       "      <td>...</td>\n",
       "      <td>...</td>\n",
       "      <td>...</td>\n",
       "      <td>...</td>\n",
       "      <td>...</td>\n",
       "      <td>...</td>\n",
       "      <td>...</td>\n",
       "      <td>...</td>\n",
       "      <td>...</td>\n",
       "    </tr>\n",
       "    <tr>\n",
       "      <th>406</th>\n",
       "      <td>406</td>\n",
       "      <td>3</td>\n",
       "      <td>2021</td>\n",
       "      <td>1</td>\n",
       "      <td>33400.00</td>\n",
       "      <td>1</td>\n",
       "      <td>1</td>\n",
       "      <td>4</td>\n",
       "      <td>1</td>\n",
       "      <td>2.0</td>\n",
       "    </tr>\n",
       "    <tr>\n",
       "      <th>407</th>\n",
       "      <td>407</td>\n",
       "      <td>0</td>\n",
       "      <td>2017</td>\n",
       "      <td>1</td>\n",
       "      <td>96560.40</td>\n",
       "      <td>1</td>\n",
       "      <td>9</td>\n",
       "      <td>3</td>\n",
       "      <td>1</td>\n",
       "      <td>2.0</td>\n",
       "    </tr>\n",
       "    <tr>\n",
       "      <th>408</th>\n",
       "      <td>408</td>\n",
       "      <td>2</td>\n",
       "      <td>2012</td>\n",
       "      <td>1</td>\n",
       "      <td>218000.00</td>\n",
       "      <td>1</td>\n",
       "      <td>13</td>\n",
       "      <td>3</td>\n",
       "      <td>2</td>\n",
       "      <td>2.0</td>\n",
       "    </tr>\n",
       "    <tr>\n",
       "      <th>409</th>\n",
       "      <td>409</td>\n",
       "      <td>1</td>\n",
       "      <td>2020</td>\n",
       "      <td>1</td>\n",
       "      <td>64373.60</td>\n",
       "      <td>1</td>\n",
       "      <td>10</td>\n",
       "      <td>3</td>\n",
       "      <td>2</td>\n",
       "      <td>2.0</td>\n",
       "    </tr>\n",
       "    <tr>\n",
       "      <th>410</th>\n",
       "      <td>410</td>\n",
       "      <td>0</td>\n",
       "      <td>2017</td>\n",
       "      <td>1</td>\n",
       "      <td>193120.80</td>\n",
       "      <td>1</td>\n",
       "      <td>13</td>\n",
       "      <td>3</td>\n",
       "      <td>1</td>\n",
       "      <td>2.0</td>\n",
       "    </tr>\n",
       "  </tbody>\n",
       "</table>\n",
       "<p>411 rows × 10 columns</p>\n",
       "</div>"
      ],
      "text/plain": [
       "      Id  model  year  motor_type    running wheel  color  type  status  motor_volume\n",
       "0      0      1  2020           1   24000.00     1      1     3       1           2.0\n",
       "1      1      3  2017           1  136793.90     1     13     4       1           2.0\n",
       "2      2      0  2021           1   48280.20     1     13     3       1           2.0\n",
       "3      3      1  2018           1   85295.02     1     11     3       1           2.0\n",
       "4      4      2  2003           1  230000.00     1      1     1       4           1.8\n",
       "..   ...    ...   ...         ...        ...   ...    ...   ...     ...           ...\n",
       "406  406      3  2021           1   33400.00     1      1     4       1           2.0\n",
       "407  407      0  2017           1   96560.40     1      9     3       1           2.0\n",
       "408  408      2  2012           1  218000.00     1     13     3       2           2.0\n",
       "409  409      1  2020           1   64373.60     1     10     3       2           2.0\n",
       "410  410      0  2017           1  193120.80     1     13     3       1           2.0\n",
       "\n",
       "[411 rows x 10 columns]"
      ]
     },
     "execution_count": 47,
     "metadata": {},
     "output_type": "execute_result"
    }
   ],
   "source": [
    "tst_df = dataNormalize(tst_df, mode=\"test\")\n",
    "tst_df"
   ]
  },
  {
   "cell_type": "code",
   "execution_count": 48,
   "metadata": {},
   "outputs": [],
   "source": [
    "tst_indep = tensor(tst_df[indep_cols].values, dtype=torch.float).to(device)\n",
    "feature_mean = feature_mean.to(device)\n",
    "feature_std = feature_std.to(device)\n",
    "tst_indep = (tst_indep - feature_mean) / feature_std"
   ]
  },
  {
   "cell_type": "code",
   "execution_count": 50,
   "metadata": {},
   "outputs": [],
   "source": [
    "test_preds = calc_preds(coeffs, tst_indep, denormalize=True)\n",
    "submission = pd.DataFrame({\n",
    "    'Id': tst_df['Id'],\n",
    "    'price': test_preds.cpu().detach().numpy().flatten()\n",
    "})\n",
    "submission.to_csv('submission.csv', index=False)"
   ]
  },
  {
   "cell_type": "code",
   "execution_count": null,
   "metadata": {},
   "outputs": [],
   "source": []
  }
 ],
 "metadata": {
  "kaggle": {
   "accelerator": "none",
   "dataSources": [
    {
     "databundleVersionId": 26502,
     "sourceId": 3136,
     "sourceType": "competition"
    },
    {
     "datasetId": 6709090,
     "sourceId": 10808168,
     "sourceType": "datasetVersion"
    },
    {
     "datasetId": 6709118,
     "sourceId": 10808207,
     "sourceType": "datasetVersion"
    }
   ],
   "dockerImageVersionId": 30184,
   "isGpuEnabled": false,
   "isInternetEnabled": true,
   "language": "python",
   "sourceType": "notebook"
  },
  "kernelspec": {
   "display_name": "Python 3 (ipykernel)",
   "language": "python",
   "name": "python3"
  },
  "language_info": {
   "codemirror_mode": {
    "name": "ipython",
    "version": 3
   },
   "file_extension": ".py",
   "mimetype": "text/x-python",
   "name": "python",
   "nbconvert_exporter": "python",
   "pygments_lexer": "ipython3",
   "version": "3.11.11"
  }
 },
 "nbformat": 4,
 "nbformat_minor": 4
}
